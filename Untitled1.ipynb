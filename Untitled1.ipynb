{
  "nbformat": 4,
  "nbformat_minor": 0,
  "metadata": {
    "colab": {
      "name": "Untitled1.ipynb",
      "provenance": [],
      "collapsed_sections": [],
      "authorship_tag": "ABX9TyNvsq6RL5NWXeECGnPW3t5q",
      "include_colab_link": true
    },
    "kernelspec": {
      "name": "python3",
      "display_name": "Python 3"
    },
    "language_info": {
      "name": "python"
    }
  },
  "cells": [
    {
      "cell_type": "markdown",
      "metadata": {
        "id": "view-in-github",
        "colab_type": "text"
      },
      "source": [
        "<a href=\"https://colab.research.google.com/github/caiogoes/cursoIA/blob/main/Untitled1.ipynb\" target=\"_parent\"><img src=\"https://colab.research.google.com/assets/colab-badge.svg\" alt=\"Open In Colab\"/></a>"
      ]
    },
    {
      "cell_type": "code",
      "execution_count": 1,
      "metadata": {
        "colab": {
          "base_uri": "https://localhost:8080/"
        },
        "id": "CU-EZ95mKW_V",
        "outputId": "68fc4c23-4872-46e8-988f-d187a868d03c"
      },
      "outputs": [
        {
          "output_type": "stream",
          "name": "stdout",
          "text": [
            "Collecting fuzzywuzzy[speedup]\n",
            "  Downloading fuzzywuzzy-0.18.0-py2.py3-none-any.whl (18 kB)\n",
            "Collecting python-levenshtein>=0.12\n",
            "  Downloading python-Levenshtein-0.12.2.tar.gz (50 kB)\n",
            "\u001b[?25l\r\u001b[K     |██████▌                         | 10 kB 22.8 MB/s eta 0:00:01\r\u001b[K     |█████████████                   | 20 kB 7.8 MB/s eta 0:00:01\r\u001b[K     |███████████████████▌            | 30 kB 7.1 MB/s eta 0:00:01\r\u001b[K     |██████████████████████████      | 40 kB 4.3 MB/s eta 0:00:01\r\u001b[K     |████████████████████████████████| 50 kB 3.2 MB/s \n",
            "\u001b[?25hRequirement already satisfied: setuptools in /usr/local/lib/python3.7/dist-packages (from python-levenshtein>=0.12->fuzzywuzzy[speedup]) (57.4.0)\n",
            "Building wheels for collected packages: python-levenshtein\n",
            "  Building wheel for python-levenshtein (setup.py) ... \u001b[?25l\u001b[?25hdone\n",
            "  Created wheel for python-levenshtein: filename=python_Levenshtein-0.12.2-cp37-cp37m-linux_x86_64.whl size=149875 sha256=1e812ef632ce541f3f28e68b82792dcefa22172b4f204ff2a1085f096d72ce04\n",
            "  Stored in directory: /root/.cache/pip/wheels/05/5f/ca/7c4367734892581bb5ff896f15027a932c551080b2abd3e00d\n",
            "Successfully built python-levenshtein\n",
            "Installing collected packages: python-levenshtein, fuzzywuzzy\n",
            "Successfully installed fuzzywuzzy-0.18.0 python-levenshtein-0.12.2\n"
          ]
        }
      ],
      "source": [
        "!pip install fuzzywuzzy[speedup]"
      ]
    },
    {
      "cell_type": "code",
      "source": [
        "from fuzzywuzzy import process"
      ],
      "metadata": {
        "id": "CVCtDCsOLKCp"
      },
      "execution_count": 2,
      "outputs": []
    },
    {
      "cell_type": "code",
      "source": [
        "lista = [\"merda\", \"caralho\", \"porra\", \"vagabunda\", \"otario\", \"babaca\", \"lixo\", \"droga\", \"coco\", \"não funciona\", \"ja fiz isso\", \"o dia inteiro\", \"ja tentei\"]\n",
        "\n",
        "texto = input(\"Digite o texto: \")\n",
        "\n",
        "process.extract(texto, lista)"
      ],
      "metadata": {
        "colab": {
          "base_uri": "https://localhost:8080/"
        },
        "id": "uNy4H8eULOgi",
        "outputId": "a5fa65d9-1e8c-41b3-f5d2-f0bfcfd67170"
      },
      "execution_count": null,
      "outputs": [
        {
          "name": "stdout",
          "output_type": "stream",
          "text": [
            "Digite o texto: teste\n"
          ]
        },
        {
          "output_type": "execute_result",
          "data": {
            "text/plain": [
              "[('ja tentei', 72),\n",
              " ('o dia inteiro', 36),\n",
              " ('merda', 20),\n",
              " ('otario', 18),\n",
              " ('ja fiz isso', 18)]"
            ]
          },
          "metadata": {},
          "execution_count": 3
        }
      ]
    },
    {
      "cell_type": "code",
      "source": [
        "def getMatch(field):\n",
        "  match_list = [\"merda\", \"caralho\", \"porra\", \"vagabunda\", \"otario\", \"babaca\", \"lixo\", \"droga\", \"coco\", \"não funciona\", \"ja fiz isso\", \"o dia inteiro\", \"ja tentei\"]\n",
        "  search_list = process.extract(field, match_list)\n",
        "\n",
        "  result = []\n",
        "\n",
        "  for text in search_list:\n",
        "    if text[1] > 54:\n",
        "      result.append(text)\n",
        "\n",
        "  if len(result) == 0:\n",
        "    return 'Você está satisfeito'\n",
        "  return 'Você está insatisfeito'\n",
        "\n",
        "getMatch(input())"
      ],
      "metadata": {
        "colab": {
          "base_uri": "https://localhost:8080/",
          "height": 53
        },
        "id": "7g7ErWx5M4G-",
        "outputId": "0b9073cc-bc12-45c3-d286-a9254c584984"
      },
      "execution_count": 22,
      "outputs": [
        {
          "name": "stdout",
          "output_type": "stream",
          "text": [
            "Esse chat bot é bom pra caralho\n"
          ]
        },
        {
          "output_type": "execute_result",
          "data": {
            "text/plain": [
              "'Você está insatisfeito'"
            ],
            "application/vnd.google.colaboratory.intrinsic+json": {
              "type": "string"
            }
          },
          "metadata": {},
          "execution_count": 22
        }
      ]
    }
  ]
}