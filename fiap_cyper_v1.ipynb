{
  "nbformat": 4,
  "nbformat_minor": 0,
  "metadata": {
    "colab": {
      "name": "Untitled0.ipynb",
      "provenance": [],
      "collapsed_sections": [],
      "authorship_tag": "ABX9TyNLYleKn74z7bzDtjzKC++r",
      "include_colab_link": true
    },
    "kernelspec": {
      "name": "python3",
      "display_name": "Python 3"
    },
    "language_info": {
      "name": "python"
    }
  },
  "cells": [
    {
      "cell_type": "markdown",
      "metadata": {
        "id": "view-in-github",
        "colab_type": "text"
      },
      "source": [
        "<a href=\"https://colab.research.google.com/github/caiogoes/cursoIA/blob/main/fiap_cyper_v1.ipynb\" target=\"_parent\"><img src=\"https://colab.research.google.com/assets/colab-badge.svg\" alt=\"Open In Colab\"/></a>"
      ]
    },
    {
      "cell_type": "markdown",
      "source": [
        "Identificando impaciência do cliente utilizando um chatbot"
      ],
      "metadata": {
        "id": "RIEhA4lIFEDm"
      }
    },
    {
      "cell_type": "code",
      "source": [
        "import re # Importa o regex"
      ],
      "metadata": {
        "id": "2vszjWCf3hh4"
      },
      "execution_count": 2,
      "outputs": []
    },
    {
      "cell_type": "code",
      "execution_count": null,
      "metadata": {
        "id": "WeG1lwRgDuIh"
      },
      "outputs": [],
      "source": [
        "# merda, caralho, porra, vagabunda, odeio, caralho, otario, babaca, lixo, droga, coco, não funciona, nao aguento ja fiz isso, o dia inteiro, ja tentei"
      ]
    },
    {
      "cell_type": "code",
      "source": [
        "lista = [\"merda\", \"caralho\", \"porra\", \"vagabunda\", \"otario\", \"babaca\", \"lixo\", \"droga\", \"coco\", \"não funciona\", \"ja fiz isso\", \"o dia inteiro\", \"ja tentei\"]\n",
        "texto = input() # Abre caixa para entrada\n",
        "if(texto in lista): # Caso o que foi digitado estiver na lista, cai no if\n",
        "  print(\"Você está insatisfeito\")\n",
        "else: # Caso o que foi digitado nâo estiver na lista, cai no else\n",
        "  print(\"Você está satisfeito\")"
      ],
      "metadata": {
        "id": "drPIulp_y9S1"
      },
      "execution_count": null,
      "outputs": []
    },
    {
      "cell_type": "code",
      "source": [
        "def getInsatisfaction(field):\n",
        "  match = re.search('(?i)(merda)|(caralho)|(odeio)|(porra)|(vagabunda)|(otario)|(babaca)|(lixo)|(droga)|(coco)|(não funciona)|(nao aguento)|(ja fiz isso)|(o dia inteiro)|(ja tentei)', field.lower())\n",
        "\n",
        "  if match:\n",
        "    print(\"Você está insatisfeito\")\n",
        "  else:\n",
        "    print(\"Você está satisfeito\")\n",
        "\n",
        "getInsatisfaction(input())"
      ],
      "metadata": {
        "colab": {
          "base_uri": "https://localhost:8080/"
        },
        "id": "7njzvEu04jh2",
        "outputId": "c9e15c1e-d5c0-4e35-af70-ba739ec57c2f"
      },
      "execution_count": 4,
      "outputs": [
        {
          "output_type": "stream",
          "name": "stdout",
          "text": [
            "Merda\n",
            "Você está insatisfeito\n"
          ]
        }
      ]
    },
    {
      "cell_type": "code",
      "source": [
        ""
      ],
      "metadata": {
        "id": "A_sndNgw5mVj"
      },
      "execution_count": null,
      "outputs": []
    }
  ]
}